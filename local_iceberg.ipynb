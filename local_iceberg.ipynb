{
 "cells": [
  {
   "cell_type": "code",
   "execution_count": 1,
   "metadata": {},
   "outputs": [],
   "source": [
    "import logging\n",
    "import os\n",
    "from pyiceberg.catalog import load_catalog\n",
    "from pyiceberg.schema import Schema\n",
    "from pyiceberg.types import NestedField, IntegerType, StringType, FloatType, TimestampType\n",
    "from pyiceberg.partitioning import PartitionSpec, PartitionField\n",
    "from pyiceberg.transforms import DayTransform\n",
    "from raw_s3_iceberg_etl import *"
   ]
  },
  {
   "cell_type": "code",
   "execution_count": 2,
   "metadata": {},
   "outputs": [],
   "source": [
    "# ----- Load .env and conf -----\n",
    "load_dotenv()\n",
    "config = configparser.ConfigParser()\n",
    "config.read_file(open(r'conf'))\n",
    "s3_object_key_path = config.get('Upload To S3', 's3_object_key_path')\n",
    "s3_lakehouse_path  = config.get('Raw S3 Iceberg Lakehouse ETL', 's3_lakehouse_path')\n",
    "gz_file_name       = config.get('Raw S3 Iceberg Lakehouse ETL', 'gz_file_name')\n",
    "local_gz_dir_path  = config.get('Raw S3 Iceberg Lakehouse ETL', 'local_gz_dir_path')\n",
    "region_name        = config.get('Raw S3 Iceberg Lakehouse ETL', 'region_name')\n",
    "# ----- Load .env and conf -----"
   ]
  },
  {
   "cell_type": "code",
   "execution_count": 20,
   "metadata": {},
   "outputs": [
    {
     "data": {
      "text/plain": [
       "lakehouse (<class 'pyiceberg.catalog.sql.SqlCatalog'>)"
      ]
     },
     "execution_count": 20,
     "metadata": {},
     "output_type": "execute_result"
    }
   ],
   "source": [
    "catalog = load_local_sqlite_catalog()\n",
    "catalog"
   ]
  },
  {
   "cell_type": "code",
   "execution_count": 27,
   "metadata": {},
   "outputs": [
    {
     "data": {
      "text/plain": [
       "Packets(\n",
       "  1: user: optional string,\n",
       "  2: time_stamp: required timestamp,\n",
       "  3: source_ip: required string,\n",
       "  4: destination_ip: required string,\n",
       "  5: bandwidth_kb: required float,\n",
       "  6: id: required string\n",
       "),\n",
       "partition by: [partition_date],\n",
       "sort order: [],\n",
       "snapshot: Operation.APPEND: id=2939511074434193825, parent_id=5302911279310217071, schema_id=0"
      ]
     },
     "execution_count": 27,
     "metadata": {},
     "output_type": "execute_result"
    }
   ],
   "source": [
    "create_raw_schema(catalog = catalog, name_space = 'PacketX_Raw', table_name = 'Packets')\n",
    "iceberg_table = catalog.load_table(\"PacketX_Raw.Packets\")\n",
    "iceberg_table"
   ]
  },
  {
   "cell_type": "code",
   "execution_count": 33,
   "metadata": {},
   "outputs": [],
   "source": [
    "date_filter = gz_file_name.split('.')[0].split('-')\n",
    "day_filter = date_filter[1] + '-' + date_filter[2] + '-' + date_filter[3]\n",
    "\n",
    "start_time = f\"{day_filter}T00:00:00\"\n",
    "end_time = f\"{day_filter}T23:59:59\"\n",
    "\n",
    "filtered_day_table = iceberg_table.scan(row_filter=f\"time_stamp >= '{start_time}' AND time_stamp <= '{end_time}'\")"
   ]
  },
  {
   "cell_type": "code",
   "execution_count": 35,
   "metadata": {},
   "outputs": [
    {
     "data": {
      "text/plain": [
       "pyarrow.Table\n",
       "user: large_string\n",
       "time_stamp: timestamp[us] not null\n",
       "source_ip: large_string not null\n",
       "destination_ip: large_string not null\n",
       "bandwidth_kb: float not null\n",
       "id: large_string not null\n",
       "----\n",
       "user: [[\"dyab\",\"dyab\",\"dyab\",\"dyab\",\"dyab\",...,\"dyab\",\"dyab\",\"dyab\",\"dyab\",\"dyab\"]]\n",
       "time_stamp: [[2025-03-20 19:15:00.000000,2025-03-20 19:15:00.000000,2025-03-20 19:15:00.000000,2025-03-20 19:15:00.000000,2025-03-20 19:15:00.000000,...,2025-03-20 23:59:00.000000,2025-03-20 23:59:00.000000,2025-03-20 23:59:00.000000,2025-03-20 23:59:00.000000,2025-03-20 23:59:00.000000]]\n",
       "source_ip: [[\"192.168.1.5\",\"3.164.182.84\",\"192.168.1.5\",\"20.42.73.31\",\"51.104.15.253\",...,\"192.168.1.5\",\"192.168.1.5\",\"192.168.1.5\",\"192.168.1.5\",\"192.168.1.5\"]]\n",
       "destination_ip: [[\"150.171.27.11\",\"192.168.1.5\",\"104.208.16.92\",\"192.168.1.5\",\"192.168.1.5\",...,\"108.159.102.123\",\"163.121.128.134\",\"163.121.128.135\",\"192.168.1.1\",\"108.159.108.209\"]]\n",
       "bandwidth_kb: [[2.02539,0.158203,9.6084,0.170898,40,...,18.0078,13.3828,10.5146,27.1797,987.395]]\n",
       "id: [[\"dyab-2025-03-20 19:15:00.000000-1\",\"dyab-2025-03-20 19:15:00.000000-2\",\"dyab-2025-03-20 19:15:00.000000-3\",\"dyab-2025-03-20 19:15:00.000000-4\",\"dyab-2025-03-20 19:15:00.000000-5\",...,\"dyab-2025-03-20 23:59:00.000000-7039\",\"dyab-2025-03-20 23:59:00.000000-7040\",\"dyab-2025-03-20 23:59:00.000000-7041\",\"dyab-2025-03-20 23:59:00.000000-7042\",\"dyab-2025-03-20 23:59:00.000000-7043\"]]"
      ]
     },
     "execution_count": 35,
     "metadata": {},
     "output_type": "execute_result"
    }
   ],
   "source": [
    "filtered_day_table.to_arrow()"
   ]
  },
  {
   "cell_type": "code",
   "execution_count": null,
   "metadata": {},
   "outputs": [
    {
     "data": {
      "text/html": [
       "<div>\n",
       "<style scoped>\n",
       "    .dataframe tbody tr th:only-of-type {\n",
       "        vertical-align: middle;\n",
       "    }\n",
       "\n",
       "    .dataframe tbody tr th {\n",
       "        vertical-align: top;\n",
       "    }\n",
       "\n",
       "    .dataframe thead th {\n",
       "        text-align: right;\n",
       "    }\n",
       "</style>\n",
       "<table border=\"1\" class=\"dataframe\">\n",
       "  <thead>\n",
       "    <tr style=\"text-align: right;\">\n",
       "      <th></th>\n",
       "      <th>user</th>\n",
       "      <th>time_stamp</th>\n",
       "      <th>source_ip</th>\n",
       "      <th>destination_ip</th>\n",
       "      <th>bandwidth_kb</th>\n",
       "      <th>id</th>\n",
       "    </tr>\n",
       "  </thead>\n",
       "  <tbody>\n",
       "    <tr>\n",
       "      <th>0</th>\n",
       "      <td>dyab</td>\n",
       "      <td>2025-03-20 19:15:00</td>\n",
       "      <td>192.168.1.5</td>\n",
       "      <td>150.171.27.11</td>\n",
       "      <td>2.025390</td>\n",
       "      <td>dyab-2025-03-20 19:15:00.000000-1</td>\n",
       "    </tr>\n",
       "    <tr>\n",
       "      <th>1</th>\n",
       "      <td>dyab</td>\n",
       "      <td>2025-03-20 19:15:00</td>\n",
       "      <td>3.164.182.84</td>\n",
       "      <td>192.168.1.5</td>\n",
       "      <td>0.158203</td>\n",
       "      <td>dyab-2025-03-20 19:15:00.000000-2</td>\n",
       "    </tr>\n",
       "    <tr>\n",
       "      <th>2</th>\n",
       "      <td>dyab</td>\n",
       "      <td>2025-03-20 19:15:00</td>\n",
       "      <td>192.168.1.5</td>\n",
       "      <td>104.208.16.92</td>\n",
       "      <td>9.608400</td>\n",
       "      <td>dyab-2025-03-20 19:15:00.000000-3</td>\n",
       "    </tr>\n",
       "    <tr>\n",
       "      <th>3</th>\n",
       "      <td>dyab</td>\n",
       "      <td>2025-03-20 19:15:00</td>\n",
       "      <td>20.42.73.31</td>\n",
       "      <td>192.168.1.5</td>\n",
       "      <td>0.170898</td>\n",
       "      <td>dyab-2025-03-20 19:15:00.000000-4</td>\n",
       "    </tr>\n",
       "    <tr>\n",
       "      <th>4</th>\n",
       "      <td>dyab</td>\n",
       "      <td>2025-03-20 19:15:00</td>\n",
       "      <td>51.104.15.253</td>\n",
       "      <td>192.168.1.5</td>\n",
       "      <td>40.000000</td>\n",
       "      <td>dyab-2025-03-20 19:15:00.000000-5</td>\n",
       "    </tr>\n",
       "    <tr>\n",
       "      <th>...</th>\n",
       "      <td>...</td>\n",
       "      <td>...</td>\n",
       "      <td>...</td>\n",
       "      <td>...</td>\n",
       "      <td>...</td>\n",
       "      <td>...</td>\n",
       "    </tr>\n",
       "    <tr>\n",
       "      <th>7038</th>\n",
       "      <td>dyab</td>\n",
       "      <td>2025-03-20 23:59:00</td>\n",
       "      <td>192.168.1.5</td>\n",
       "      <td>108.159.102.123</td>\n",
       "      <td>18.007799</td>\n",
       "      <td>dyab-2025-03-20 23:59:00.000000-7039</td>\n",
       "    </tr>\n",
       "    <tr>\n",
       "      <th>7039</th>\n",
       "      <td>dyab</td>\n",
       "      <td>2025-03-20 23:59:00</td>\n",
       "      <td>192.168.1.5</td>\n",
       "      <td>163.121.128.134</td>\n",
       "      <td>13.382800</td>\n",
       "      <td>dyab-2025-03-20 23:59:00.000000-7040</td>\n",
       "    </tr>\n",
       "    <tr>\n",
       "      <th>7040</th>\n",
       "      <td>dyab</td>\n",
       "      <td>2025-03-20 23:59:00</td>\n",
       "      <td>192.168.1.5</td>\n",
       "      <td>163.121.128.135</td>\n",
       "      <td>10.514600</td>\n",
       "      <td>dyab-2025-03-20 23:59:00.000000-7041</td>\n",
       "    </tr>\n",
       "    <tr>\n",
       "      <th>7041</th>\n",
       "      <td>dyab</td>\n",
       "      <td>2025-03-20 23:59:00</td>\n",
       "      <td>192.168.1.5</td>\n",
       "      <td>192.168.1.1</td>\n",
       "      <td>27.179701</td>\n",
       "      <td>dyab-2025-03-20 23:59:00.000000-7042</td>\n",
       "    </tr>\n",
       "    <tr>\n",
       "      <th>7042</th>\n",
       "      <td>dyab</td>\n",
       "      <td>2025-03-20 23:59:00</td>\n",
       "      <td>192.168.1.5</td>\n",
       "      <td>108.159.108.209</td>\n",
       "      <td>987.395020</td>\n",
       "      <td>dyab-2025-03-20 23:59:00.000000-7043</td>\n",
       "    </tr>\n",
       "  </tbody>\n",
       "</table>\n",
       "<p>7043 rows × 6 columns</p>\n",
       "</div>"
      ],
      "text/plain": [
       "      user          time_stamp      source_ip   destination_ip  bandwidth_kb  \\\n",
       "0     dyab 2025-03-20 19:15:00    192.168.1.5    150.171.27.11      2.025390   \n",
       "1     dyab 2025-03-20 19:15:00   3.164.182.84      192.168.1.5      0.158203   \n",
       "2     dyab 2025-03-20 19:15:00    192.168.1.5    104.208.16.92      9.608400   \n",
       "3     dyab 2025-03-20 19:15:00    20.42.73.31      192.168.1.5      0.170898   \n",
       "4     dyab 2025-03-20 19:15:00  51.104.15.253      192.168.1.5     40.000000   \n",
       "...    ...                 ...            ...              ...           ...   \n",
       "7038  dyab 2025-03-20 23:59:00    192.168.1.5  108.159.102.123     18.007799   \n",
       "7039  dyab 2025-03-20 23:59:00    192.168.1.5  163.121.128.134     13.382800   \n",
       "7040  dyab 2025-03-20 23:59:00    192.168.1.5  163.121.128.135     10.514600   \n",
       "7041  dyab 2025-03-20 23:59:00    192.168.1.5      192.168.1.1     27.179701   \n",
       "7042  dyab 2025-03-20 23:59:00    192.168.1.5  108.159.108.209    987.395020   \n",
       "\n",
       "                                        id  \n",
       "0        dyab-2025-03-20 19:15:00.000000-1  \n",
       "1        dyab-2025-03-20 19:15:00.000000-2  \n",
       "2        dyab-2025-03-20 19:15:00.000000-3  \n",
       "3        dyab-2025-03-20 19:15:00.000000-4  \n",
       "4        dyab-2025-03-20 19:15:00.000000-5  \n",
       "...                                    ...  \n",
       "7038  dyab-2025-03-20 23:59:00.000000-7039  \n",
       "7039  dyab-2025-03-20 23:59:00.000000-7040  \n",
       "7040  dyab-2025-03-20 23:59:00.000000-7041  \n",
       "7041  dyab-2025-03-20 23:59:00.000000-7042  \n",
       "7042  dyab-2025-03-20 23:59:00.000000-7043  \n",
       "\n",
       "[7043 rows x 6 columns]"
      ]
     },
     "execution_count": 29,
     "metadata": {},
     "output_type": "execute_result"
    }
   ],
   "source": [
    "filtered_day_table.to_pandas()"
   ]
  },
  {
   "cell_type": "code",
   "execution_count": null,
   "metadata": {},
   "outputs": [],
   "source": [
    "def aggregate_bandwidth_by_user(df):\n",
    "    grouped = df.group_by('user').aggregate([\n",
    "        ('bandwidth_kb', 'sum')\n",
    "    ])\n",
    "    \n",
    "    return grouped.rename_columns(['user', 'total_bandwidth_kb'])"
   ]
  },
  {
   "cell_type": "code",
   "execution_count": null,
   "metadata": {},
   "outputs": [
    {
     "data": {
      "text/plain": [
       "pyarrow.Table\n",
       "user: large_string\n",
       "total_bandwidth_kb: double\n",
       "----\n",
       "user: [[\"dyab\"]]\n",
       "total_bandwidth_kb: [[153132.5259416923]]"
      ]
     },
     "execution_count": 37,
     "metadata": {},
     "output_type": "execute_result"
    }
   ],
   "source": [
    "aggregate_bandwidth_by_user(filtered_day_table.to_arrow())"
   ]
  },
  {
   "cell_type": "code",
   "execution_count": null,
   "metadata": {},
   "outputs": [],
   "source": []
  }
 ],
 "metadata": {
  "kernelspec": {
   "display_name": ".venv",
   "language": "python",
   "name": "python3"
  },
  "language_info": {
   "codemirror_mode": {
    "name": "ipython",
    "version": 3
   },
   "file_extension": ".py",
   "mimetype": "text/x-python",
   "name": "python",
   "nbconvert_exporter": "python",
   "pygments_lexer": "ipython3",
   "version": "3.12.3"
  }
 },
 "nbformat": 4,
 "nbformat_minor": 2
}
